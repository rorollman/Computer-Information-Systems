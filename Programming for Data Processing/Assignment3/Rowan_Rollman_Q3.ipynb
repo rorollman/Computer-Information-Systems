{
 "cells": [
  {
   "cell_type": "code",
   "execution_count": 1,
   "id": "4c2e1391",
   "metadata": {},
   "outputs": [
    {
     "name": "stdout",
     "output_type": "stream",
     "text": [
      "Shape: (78, 6)\n",
      "             Rank Discipline  YearsSinceDegree  YearsOfService Gender  Salary\n",
      "0         Manager          B                56              49   Male  186960\n",
      "1         Manager          A                12               6   Male   93000\n",
      "2         Manager          A                23              20   Male  110515\n",
      "3         Manager          A                40              31   Male  131205\n",
      "4         Manager          B                20              18   Male  104800\n",
      "5         Manager          A                20              20   Male  122400\n",
      "6  SeniorEngineer          A                20              17   Male   81285\n",
      "7         Manager          A                18              18   Male  126300\n",
      "8         Manager          A                29              19   Male   94350\n",
      "9         Manager          A                51              51   Male   57800\n"
     ]
    }
   ],
   "source": [
    "import pandas as pd\n",
    "import matplotlib.pyplot as plt\n",
    "import seaborn as sns\n",
    "#a-c\n",
    "data = pd.read_csv('Eng_salaries.csv')\n",
    "print(\"Shape:\", data.shape)\n",
    "print(data.head(10))"
   ]
  },
  {
   "cell_type": "code",
   "execution_count": 2,
   "id": "fdc5278a",
   "metadata": {},
   "outputs": [
    {
     "data": {
      "text/html": [
       "<div>\n",
       "<style scoped>\n",
       "    .dataframe tbody tr th:only-of-type {\n",
       "        vertical-align: middle;\n",
       "    }\n",
       "\n",
       "    .dataframe tbody tr th {\n",
       "        vertical-align: top;\n",
       "    }\n",
       "\n",
       "    .dataframe thead th {\n",
       "        text-align: right;\n",
       "    }\n",
       "</style>\n",
       "<table border=\"1\" class=\"dataframe\">\n",
       "  <thead>\n",
       "    <tr style=\"text-align: right;\">\n",
       "      <th></th>\n",
       "      <th>YearsSinceDegree</th>\n",
       "      <th>YearsOfService</th>\n",
       "      <th>Salary</th>\n",
       "    </tr>\n",
       "  </thead>\n",
       "  <tbody>\n",
       "    <tr>\n",
       "      <th>count</th>\n",
       "      <td>78.000000</td>\n",
       "      <td>78.000000</td>\n",
       "      <td>78.000000</td>\n",
       "    </tr>\n",
       "    <tr>\n",
       "      <th>mean</th>\n",
       "      <td>19.705128</td>\n",
       "      <td>15.051282</td>\n",
       "      <td>108023.782051</td>\n",
       "    </tr>\n",
       "    <tr>\n",
       "      <th>std</th>\n",
       "      <td>12.498425</td>\n",
       "      <td>12.139768</td>\n",
       "      <td>28293.661022</td>\n",
       "    </tr>\n",
       "    <tr>\n",
       "      <th>min</th>\n",
       "      <td>1.000000</td>\n",
       "      <td>0.000000</td>\n",
       "      <td>57800.000000</td>\n",
       "    </tr>\n",
       "    <tr>\n",
       "      <th>25%</th>\n",
       "      <td>10.250000</td>\n",
       "      <td>5.250000</td>\n",
       "      <td>88612.500000</td>\n",
       "    </tr>\n",
       "    <tr>\n",
       "      <th>50%</th>\n",
       "      <td>18.500000</td>\n",
       "      <td>14.500000</td>\n",
       "      <td>104671.000000</td>\n",
       "    </tr>\n",
       "    <tr>\n",
       "      <th>75%</th>\n",
       "      <td>27.750000</td>\n",
       "      <td>20.750000</td>\n",
       "      <td>126774.750000</td>\n",
       "    </tr>\n",
       "    <tr>\n",
       "      <th>max</th>\n",
       "      <td>56.000000</td>\n",
       "      <td>51.000000</td>\n",
       "      <td>186960.000000</td>\n",
       "    </tr>\n",
       "  </tbody>\n",
       "</table>\n",
       "</div>"
      ],
      "text/plain": [
       "       YearsSinceDegree  YearsOfService         Salary\n",
       "count         78.000000       78.000000      78.000000\n",
       "mean          19.705128       15.051282  108023.782051\n",
       "std           12.498425       12.139768   28293.661022\n",
       "min            1.000000        0.000000   57800.000000\n",
       "25%           10.250000        5.250000   88612.500000\n",
       "50%           18.500000       14.500000  104671.000000\n",
       "75%           27.750000       20.750000  126774.750000\n",
       "max           56.000000       51.000000  186960.000000"
      ]
     },
     "execution_count": 2,
     "metadata": {},
     "output_type": "execute_result"
    }
   ],
   "source": [
    "#d-f\n",
    "data = data.drop(columns='Discipline')\n",
    "data = data.dropna()\n",
    "data.describe()"
   ]
  },
  {
   "cell_type": "code",
   "execution_count": 3,
   "id": "1c8cc493",
   "metadata": {},
   "outputs": [
    {
     "name": "stdout",
     "output_type": "stream",
     "text": [
      "Mean:\n",
      " Rank\n",
      "JuniorEngineer     81362.789474\n",
      "Manager           123624.804348\n",
      "SeniorEngineer     91786.230769\n",
      "Name: Salary, dtype: float64\n",
      "\n",
      "Standard Deviation:\n",
      " Rank\n",
      "JuniorEngineer     9381.245301\n",
      "Manager           24850.287853\n",
      "SeniorEngineer    18571.183714\n",
      "Name: Salary, dtype: float64\n"
     ]
    }
   ],
   "source": [
    "#calculate the mean and std dev of salary for each rank\n",
    "grouped = data['Salary'].groupby(data['Rank'])\n",
    "print(\"Mean:\\n\",grouped.mean())\n",
    "print(\"\\nStandard Deviation:\\n\", grouped.std())"
   ]
  },
  {
   "cell_type": "code",
   "execution_count": 4,
   "id": "25ed01d7",
   "metadata": {},
   "outputs": [
    {
     "data": {
      "text/html": [
       "<div>\n",
       "<style scoped>\n",
       "    .dataframe tbody tr th:only-of-type {\n",
       "        vertical-align: middle;\n",
       "    }\n",
       "\n",
       "    .dataframe tbody tr th {\n",
       "        vertical-align: top;\n",
       "    }\n",
       "\n",
       "    .dataframe thead th {\n",
       "        text-align: right;\n",
       "    }\n",
       "</style>\n",
       "<table border=\"1\" class=\"dataframe\">\n",
       "  <thead>\n",
       "    <tr style=\"text-align: right;\">\n",
       "      <th></th>\n",
       "      <th>Salary</th>\n",
       "      <th>YearsOfService</th>\n",
       "    </tr>\n",
       "  </thead>\n",
       "  <tbody>\n",
       "    <tr>\n",
       "      <th>min</th>\n",
       "      <td>57800.000000</td>\n",
       "      <td>0.000000</td>\n",
       "    </tr>\n",
       "    <tr>\n",
       "      <th>mean</th>\n",
       "      <td>108023.782051</td>\n",
       "      <td>15.051282</td>\n",
       "    </tr>\n",
       "    <tr>\n",
       "      <th>max</th>\n",
       "      <td>186960.000000</td>\n",
       "      <td>51.000000</td>\n",
       "    </tr>\n",
       "  </tbody>\n",
       "</table>\n",
       "</div>"
      ],
      "text/plain": [
       "             Salary  YearsOfService\n",
       "min    57800.000000        0.000000\n",
       "mean  108023.782051       15.051282\n",
       "max   186960.000000       51.000000"
      ]
     },
     "execution_count": 4,
     "metadata": {},
     "output_type": "execute_result"
    }
   ],
   "source": [
    "#calculate min, mean, and max of Salary, YearsOfService together (not separatly)\n",
    "data[['Salary','YearsOfService']].agg(['min','mean','max'])"
   ]
  },
  {
   "cell_type": "code",
   "execution_count": 5,
   "id": "0f9e79e3",
   "metadata": {},
   "outputs": [
    {
     "data": {
      "text/html": [
       "<div>\n",
       "<style scoped>\n",
       "    .dataframe tbody tr th:only-of-type {\n",
       "        vertical-align: middle;\n",
       "    }\n",
       "\n",
       "    .dataframe tbody tr th {\n",
       "        vertical-align: top;\n",
       "    }\n",
       "\n",
       "    .dataframe thead th {\n",
       "        text-align: right;\n",
       "    }\n",
       "</style>\n",
       "<table border=\"1\" class=\"dataframe\">\n",
       "  <thead>\n",
       "    <tr style=\"text-align: right;\">\n",
       "      <th></th>\n",
       "      <th>Rank</th>\n",
       "      <th>YearsSinceDegree</th>\n",
       "      <th>Salary</th>\n",
       "    </tr>\n",
       "  </thead>\n",
       "  <tbody>\n",
       "    <tr>\n",
       "      <th>10</th>\n",
       "      <td>Manager</td>\n",
       "      <td>39</td>\n",
       "      <td>128250</td>\n",
       "    </tr>\n",
       "    <tr>\n",
       "      <th>11</th>\n",
       "      <td>Manager</td>\n",
       "      <td>23</td>\n",
       "      <td>134778</td>\n",
       "    </tr>\n",
       "    <tr>\n",
       "      <th>12</th>\n",
       "      <td>JuniorEngineer</td>\n",
       "      <td>1</td>\n",
       "      <td>88000</td>\n",
       "    </tr>\n",
       "    <tr>\n",
       "      <th>13</th>\n",
       "      <td>Manager</td>\n",
       "      <td>35</td>\n",
       "      <td>162200</td>\n",
       "    </tr>\n",
       "    <tr>\n",
       "      <th>14</th>\n",
       "      <td>Manager</td>\n",
       "      <td>25</td>\n",
       "      <td>153750</td>\n",
       "    </tr>\n",
       "    <tr>\n",
       "      <th>15</th>\n",
       "      <td>Manager</td>\n",
       "      <td>17</td>\n",
       "      <td>150480</td>\n",
       "    </tr>\n",
       "    <tr>\n",
       "      <th>16</th>\n",
       "      <td>JuniorEngineer</td>\n",
       "      <td>8</td>\n",
       "      <td>75044</td>\n",
       "    </tr>\n",
       "    <tr>\n",
       "      <th>17</th>\n",
       "      <td>JuniorEngineer</td>\n",
       "      <td>4</td>\n",
       "      <td>92000</td>\n",
       "    </tr>\n",
       "    <tr>\n",
       "      <th>18</th>\n",
       "      <td>Manager</td>\n",
       "      <td>19</td>\n",
       "      <td>107300</td>\n",
       "    </tr>\n",
       "    <tr>\n",
       "      <th>19</th>\n",
       "      <td>Manager</td>\n",
       "      <td>29</td>\n",
       "      <td>150500</td>\n",
       "    </tr>\n",
       "    <tr>\n",
       "      <th>20</th>\n",
       "      <td>JuniorEngineer</td>\n",
       "      <td>4</td>\n",
       "      <td>92000</td>\n",
       "    </tr>\n",
       "    <tr>\n",
       "      <th>21</th>\n",
       "      <td>Manager</td>\n",
       "      <td>33</td>\n",
       "      <td>103106</td>\n",
       "    </tr>\n",
       "    <tr>\n",
       "      <th>22</th>\n",
       "      <td>JuniorEngineer</td>\n",
       "      <td>4</td>\n",
       "      <td>73000</td>\n",
       "    </tr>\n",
       "    <tr>\n",
       "      <th>23</th>\n",
       "      <td>JuniorEngineer</td>\n",
       "      <td>2</td>\n",
       "      <td>85000</td>\n",
       "    </tr>\n",
       "    <tr>\n",
       "      <th>24</th>\n",
       "      <td>Manager</td>\n",
       "      <td>30</td>\n",
       "      <td>91100</td>\n",
       "    </tr>\n",
       "    <tr>\n",
       "      <th>25</th>\n",
       "      <td>Manager</td>\n",
       "      <td>35</td>\n",
       "      <td>99418</td>\n",
       "    </tr>\n",
       "  </tbody>\n",
       "</table>\n",
       "</div>"
      ],
      "text/plain": [
       "              Rank  YearsSinceDegree  Salary\n",
       "10         Manager                39  128250\n",
       "11         Manager                23  134778\n",
       "12  JuniorEngineer                 1   88000\n",
       "13         Manager                35  162200\n",
       "14         Manager                25  153750\n",
       "15         Manager                17  150480\n",
       "16  JuniorEngineer                 8   75044\n",
       "17  JuniorEngineer                 4   92000\n",
       "18         Manager                19  107300\n",
       "19         Manager                29  150500\n",
       "20  JuniorEngineer                 4   92000\n",
       "21         Manager                33  103106\n",
       "22  JuniorEngineer                 4   73000\n",
       "23  JuniorEngineer                 2   85000\n",
       "24         Manager                30   91100\n",
       "25         Manager                35   99418"
      ]
     },
     "execution_count": 5,
     "metadata": {},
     "output_type": "execute_result"
    }
   ],
   "source": [
    "#Print 10th to 25th indexed rows for the columns Rank, YearsSincePhd, and Salary.\n",
    "data.loc[10:25, ['Rank','YearsSinceDegree','Salary']]"
   ]
  },
  {
   "cell_type": "code",
   "execution_count": 6,
   "id": "4315313a",
   "metadata": {},
   "outputs": [
    {
     "data": {
      "text/html": [
       "<div>\n",
       "<style scoped>\n",
       "    .dataframe tbody tr th:only-of-type {\n",
       "        vertical-align: middle;\n",
       "    }\n",
       "\n",
       "    .dataframe tbody tr th {\n",
       "        vertical-align: top;\n",
       "    }\n",
       "\n",
       "    .dataframe thead th {\n",
       "        text-align: right;\n",
       "    }\n",
       "</style>\n",
       "<table border=\"1\" class=\"dataframe\">\n",
       "  <thead>\n",
       "    <tr style=\"text-align: right;\">\n",
       "      <th></th>\n",
       "      <th>Rank</th>\n",
       "      <th>YearsSinceDegree</th>\n",
       "      <th>YearsOfService</th>\n",
       "      <th>Gender</th>\n",
       "      <th>Salary</th>\n",
       "    </tr>\n",
       "  </thead>\n",
       "  <tbody>\n",
       "    <tr>\n",
       "      <th>0</th>\n",
       "      <td>Manager</td>\n",
       "      <td>56</td>\n",
       "      <td>49</td>\n",
       "      <td>Male</td>\n",
       "      <td>186960</td>\n",
       "    </tr>\n",
       "    <tr>\n",
       "      <th>13</th>\n",
       "      <td>Manager</td>\n",
       "      <td>35</td>\n",
       "      <td>33</td>\n",
       "      <td>Male</td>\n",
       "      <td>162200</td>\n",
       "    </tr>\n",
       "    <tr>\n",
       "      <th>72</th>\n",
       "      <td>Manager</td>\n",
       "      <td>24</td>\n",
       "      <td>15</td>\n",
       "      <td>Female</td>\n",
       "      <td>161101</td>\n",
       "    </tr>\n",
       "    <tr>\n",
       "      <th>27</th>\n",
       "      <td>Manager</td>\n",
       "      <td>45</td>\n",
       "      <td>43</td>\n",
       "      <td>Male</td>\n",
       "      <td>155865</td>\n",
       "    </tr>\n",
       "    <tr>\n",
       "      <th>31</th>\n",
       "      <td>Manager</td>\n",
       "      <td>22</td>\n",
       "      <td>21</td>\n",
       "      <td>Male</td>\n",
       "      <td>155750</td>\n",
       "    </tr>\n",
       "    <tr>\n",
       "      <th>...</th>\n",
       "      <td>...</td>\n",
       "      <td>...</td>\n",
       "      <td>...</td>\n",
       "      <td>...</td>\n",
       "      <td>...</td>\n",
       "    </tr>\n",
       "    <tr>\n",
       "      <th>55</th>\n",
       "      <td>JuniorEngineer</td>\n",
       "      <td>2</td>\n",
       "      <td>0</td>\n",
       "      <td>Female</td>\n",
       "      <td>72500</td>\n",
       "    </tr>\n",
       "    <tr>\n",
       "      <th>71</th>\n",
       "      <td>SeniorEngineer</td>\n",
       "      <td>12</td>\n",
       "      <td>9</td>\n",
       "      <td>Female</td>\n",
       "      <td>71065</td>\n",
       "    </tr>\n",
       "    <tr>\n",
       "      <th>66</th>\n",
       "      <td>JuniorEngineer</td>\n",
       "      <td>7</td>\n",
       "      <td>6</td>\n",
       "      <td>Female</td>\n",
       "      <td>63100</td>\n",
       "    </tr>\n",
       "    <tr>\n",
       "      <th>54</th>\n",
       "      <td>SeniorEngineer</td>\n",
       "      <td>25</td>\n",
       "      <td>22</td>\n",
       "      <td>Female</td>\n",
       "      <td>62884</td>\n",
       "    </tr>\n",
       "    <tr>\n",
       "      <th>9</th>\n",
       "      <td>Manager</td>\n",
       "      <td>51</td>\n",
       "      <td>51</td>\n",
       "      <td>Male</td>\n",
       "      <td>57800</td>\n",
       "    </tr>\n",
       "  </tbody>\n",
       "</table>\n",
       "<p>78 rows × 5 columns</p>\n",
       "</div>"
      ],
      "text/plain": [
       "              Rank  YearsSinceDegree  YearsOfService  Gender  Salary\n",
       "0          Manager                56              49    Male  186960\n",
       "13         Manager                35              33    Male  162200\n",
       "72         Manager                24              15  Female  161101\n",
       "27         Manager                45              43    Male  155865\n",
       "31         Manager                22              21    Male  155750\n",
       "..             ...               ...             ...     ...     ...\n",
       "55  JuniorEngineer                 2               0  Female   72500\n",
       "71  SeniorEngineer                12               9  Female   71065\n",
       "66  JuniorEngineer                 7               6  Female   63100\n",
       "54  SeniorEngineer                25              22  Female   62884\n",
       "9          Manager                51              51    Male   57800\n",
       "\n",
       "[78 rows x 5 columns]"
      ]
     },
     "execution_count": 6,
     "metadata": {},
     "output_type": "execute_result"
    }
   ],
   "source": [
    "data.sort_values(by=['Salary','YearsOfService'], ascending=[False,False])"
   ]
  },
  {
   "cell_type": "code",
   "execution_count": 7,
   "id": "e35db50c",
   "metadata": {},
   "outputs": [
    {
     "data": {
      "text/plain": [
       "Text(0.5, 1.0, 'Male vs Female Salary')"
      ]
     },
     "execution_count": 7,
     "metadata": {},
     "output_type": "execute_result"
    },
    {
     "data": {
      "image/png": "[encoded data removed]",
      "text/plain": [
       "<Figure size 640x480 with 1 Axes>"
      ]
     },
     "metadata": {},
     "output_type": "display_data"
    }
   ],
   "source": [
    "sns.boxplot(x=data['Gender'], y=data['Salary'], palette='Greens')\n",
    "plt.title('Male vs Female Salary')\n"
   ]
  },
  {
   "cell_type": "code",
   "execution_count": 8,
   "id": "dfb07577",
   "metadata": {},
   "outputs": [
    {
     "data": {
      "text/plain": [
       "<seaborn.axisgrid.JointGrid at 0x1459fb970>"
      ]
     },
     "execution_count": 8,
     "metadata": {},
     "output_type": "execute_result"
    },
    {
     "data": {
      "image/png": "[encoded data removed]",
      "text/plain": [
       "<Figure size 600x600 with 3 Axes>"
      ]
     },
     "metadata": {},
     "output_type": "display_data"
    }
   ],
   "source": [
    "sns.jointplot(data, x='YearsSinceDegree',y='Salary')\n",
    "#It seems to be a positive relationship. \n",
    "#As YearsSinceDegree increases, so does the Salary"
   ]
  },
  {
   "cell_type": "code",
   "execution_count": 9,
   "id": "8a34c33c",
   "metadata": {
    "scrolled": false
   },
   "outputs": [
    {
     "data": {
      "image/png": "[encoded data removed]",
      "text/plain": [
       "<Figure size 640x480 with 1 Axes>"
      ]
     },
     "metadata": {},
     "output_type": "display_data"
    }
   ],
   "source": [
    "import numpy as np\n",
    "from scipy.stats import norm\n",
    "import statistics\n",
    "\n",
    "#YearsSinceDegree is not normally distributed. \n",
    "#If it was, the histogram would be bell-shaped, but it is not.\n",
    "\n",
    "# Plot the histogram.\n",
    "plt.hist(data['YearsSinceDegree'])\n",
    "plt.xlabel('Years Since Degree')\n",
    "plt.ylabel('Count')\n",
    "plt.title('Distribution of Years Since Degree')\n",
    "plt.show()\n"
   ]
  },
  {
   "cell_type": "code",
   "execution_count": null,
   "id": "f272db77",
   "metadata": {},
   "outputs": [],
   "source": []
  }
 ],
 "metadata": {
  "kernelspec": {
   "display_name": "Python 3 (ipykernel)",
   "language": "python",
   "name": "python3"
  },
  "language_info": {
   "codemirror_mode": {
    "name": "ipython",
    "version": 3
   },
   "file_extension": ".py",
   "mimetype": "text/x-python",
   "name": "python",
   "nbconvert_exporter": "python",
   "pygments_lexer": "ipython3",
   "version": "3.9.16"
  }
 },
 "nbformat": 4,
 "nbformat_minor": 5
}
