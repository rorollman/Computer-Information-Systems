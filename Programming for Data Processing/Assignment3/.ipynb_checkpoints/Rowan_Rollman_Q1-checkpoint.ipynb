{
 "cells": [
  {
   "cell_type": "code",
   "execution_count": 54,
   "id": "41d7cf08",
   "metadata": {},
   "outputs": [],
   "source": [
    "import csv\n",
    "import numpy as np\n",
    "\n",
    "with open('chipotle.csv',\"r\",newline='') as f:\n",
    "    chipotle=list(csv.reader(f,delimiter=\",\"))"
   ]
  },
  {
   "cell_type": "code",
   "execution_count": 55,
   "id": "4b0d3fe0",
   "metadata": {},
   "outputs": [
    {
     "name": "stdout",
     "output_type": "stream",
     "text": [
      "['1' '5' 'Chips and Tomatillo-Green Chili Salsa' 'NULL' '3']\n"
     ]
    }
   ],
   "source": [
    "ch = np.array(chipotle[1:])\n",
    "ch.shape\n",
    "for x in ch:\n",
    "    if x[0]=='1' and x[2]=='Chips and Tomatillo-Green Chili Salsa':\n",
    "        x[1]=5\n",
    "        x[4]=3\n",
    "        print(x)\n"
   ]
  },
  {
   "cell_type": "code",
   "execution_count": null,
   "id": "1e070f5c",
   "metadata": {},
   "outputs": [],
   "source": []
  }
 ],
 "metadata": {
  "kernelspec": {
   "display_name": "Python 3 (ipykernel)",
   "language": "python",
   "name": "python3"
  },
  "language_info": {
   "codemirror_mode": {
    "name": "ipython",
    "version": 3
   },
   "file_extension": ".py",
   "mimetype": "text/x-python",
   "name": "python",
   "nbconvert_exporter": "python",
   "pygments_lexer": "ipython3",
   "version": "3.9.16"
  }
 },
 "nbformat": 4,
 "nbformat_minor": 5
}
